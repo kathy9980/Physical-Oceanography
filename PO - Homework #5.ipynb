{
 "cells": [
  {
   "cell_type": "markdown",
   "metadata": {},
   "source": [
    "## Physical Oceanography \n",
    "### Homework #5 Kexin Song"
   ]
  },
  {
   "cell_type": "markdown",
   "metadata": {},
   "source": [
    "#### a) Write mass and salt conservation statements for the Black Sea.  \n",
    "\n",
    "- ** Q_u + Q_l = R **  -- Mass Conservation  \n",
    "- ** Q_u × S_u + Q_l × S_l = 0 ** -- Salt Conservation    \n",
    "\n",
    "#### b) What is the size of Black Sea water flow into the Mediterranean Sea? What is the size of the Mediterranean flow into the Black Sea? What is the net flow over the sill?\n",
    "- b.1 Q_u = 15166 (m3s-1)\n",
    "- b.2 Q_l = -8666 (m3s-1)\n",
    "- b.3 Q_net = 6500 (m3s-1)"
   ]
  },
  {
   "cell_type": "code",
   "execution_count": 11,
   "metadata": {},
   "outputs": [],
   "source": [
    "import numpy as np"
   ]
  },
  {
   "cell_type": "code",
   "execution_count": 12,
   "metadata": {
    "scrolled": false
   },
   "outputs": [
    {
     "name": "stdout",
     "output_type": "stream",
     "text": [
      "Q_u = 15166 (m3s-1)\n",
      "Q_l = -8666 (m3s-1)\n",
      "Q_net = 6500 (m3s-1)\n"
     ]
    }
   ],
   "source": [
    "R = 6.5e3  # unit:m3s-1\n",
    "S_l = 35   # unit:psu\n",
    "S_u = 20   # unit:psu\n",
    "Q_u = R*S_l/(S_l-S_u)\n",
    "Q_l = -R*S_u/(S_l-S_u)\n",
    "\n",
    "print('Q_u = %d (m3s-1)' %Q_u)\n",
    "print('Q_l = %d (m3s-1)' %Q_l)\n",
    "\n",
    "Q_net = abs(Q_u) - abs(Q_l)\n",
    "print('Q_net = %d (m3s-1)' %Q_net)"
   ]
  },
  {
   "cell_type": "markdown",
   "metadata": {},
   "source": [
    "#### c) Is there deep convection in the Black Sea? What is the residence time of the Black Sea deep water, which has a volume below the sill depth of 500,000km3. What characteristics might you expect the deep Black Sea water to exhibit?  \n",
    "\n",
    "- c.1 No.\n",
    "- c.2 residence time = V/|Q_u| = 1045 year\n",
    "- c.3 Inactive. Anoxic. Stagnant."
   ]
  },
  {
   "cell_type": "code",
   "execution_count": 35,
   "metadata": {},
   "outputs": [
    {
     "name": "stdout",
     "output_type": "stream",
     "text": [
      "t = 32967032967 (s)\n",
      "t = 1045 (year)\n"
     ]
    }
   ],
   "source": [
    "V = 5e14  # unit: m3\n",
    "t = V/abs(Q_u) # unit:s\n",
    "print('t = %d (s)' %t)\n",
    "t1 = t/60/60/24/365 # unit:year\n",
    "print('t = %d (year)' %t1)"
   ]
  },
  {
   "cell_type": "markdown",
   "metadata": {},
   "source": [
    "#### d) Suppose we construct a dam across the Bosporus sill, blocking the exchange flows completely. Describe the flow of Black Sea water over the dam once sea level in the Black Sea has reached a steady state again. What would happen to the salinity of the Black Sea over centuries?\n",
    "\n",
    "- d.1 Since the dam blocks the exchange flows, the sea level of Black Sea will rise to a new level. Once it comes to a steady status again, the outflowing water over the dam equals to R accroding to mass conservation.    \n",
    " ** Q_u = R **  -- Mass Conservation  \n",
    " ** Q_u × S_u = 0 ** -- Salt Conservation  \n",
    "   \n",
    "- d.2 The Black Sea will become a freshwater lake. S = 0. "
   ]
  },
  {
   "attachments": {},
   "cell_type": "markdown",
   "metadata": {},
   "source": [
    "#### e) Assume a hydraulic control at the sill -  what is the depth of the Black Sea overflow at the dam? \n",
    "![image.png](http://ww1.sinaimg.cn/large/005XtsRely1fw9undxlbvj30hj09caar.jpg)\n",
    "\n",
    "- F = v/(g(D-d_sill))^0.5=1  \n",
    "- v = R/(h_gate×L)  \n",
    " *** We assume h_gate=1m\n",
    "- solution：D = 54.31m"
   ]
  },
  {
   "cell_type": "code",
   "execution_count": 37,
   "metadata": {},
   "outputs": [
    {
     "name": "stdout",
     "output_type": "stream",
     "text": [
      "D = 54.311224 (m)\n"
     ]
    }
   ],
   "source": [
    "R = 6500\n",
    "g = 9.8\n",
    "L = 1000\n",
    "h = 1\n",
    "d_sill=50\n",
    "\n",
    "D = d_sill+R*R/g/(h*h)/(L*L)\n",
    "print('D = %f (m)' %D)"
   ]
  }
 ],
 "metadata": {
  "kernelspec": {
   "display_name": "Python 3",
   "language": "python",
   "name": "python3"
  },
  "language_info": {
   "codemirror_mode": {
    "name": "ipython",
    "version": 3
   },
   "file_extension": ".py",
   "mimetype": "text/x-python",
   "name": "python",
   "nbconvert_exporter": "python",
   "pygments_lexer": "ipython3",
   "version": "3.6.4"
  }
 },
 "nbformat": 4,
 "nbformat_minor": 2
}
